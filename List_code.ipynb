{
 "cells": [
  {
   "cell_type": "code",
   "execution_count": 75,
   "metadata": {},
   "outputs": [
    {
     "name": "stdout",
     "output_type": "stream",
     "text": [
      "['abhishek', 'k2222', 111601, [60, 65, 56, 78, 99]]\n",
      "<class 'list'>\n"
     ]
    }
   ],
   "source": [
    "#Example 1\n",
    "a=['abhishek','k2222',111601,[60,65,56,78,99]]#list 0--1--2--3\n",
    "print(a)\n",
    "print(type(a))"
   ]
  },
  {
   "cell_type": "code",
   "execution_count": 76,
   "metadata": {},
   "outputs": [
    {
     "name": "stdout",
     "output_type": "stream",
     "text": [
      "['abc', 'phone', 'tv']\n"
     ]
    }
   ],
   "source": [
    "#example 2\n",
    "L=['abc','phone',\"tv\"]\n",
    "print(L)"
   ]
  },
  {
   "cell_type": "code",
   "execution_count": 77,
   "metadata": {},
   "outputs": [
    {
     "name": "stdout",
     "output_type": "stream",
     "text": [
      "abhishek\n",
      "k2222\n",
      "111601\n",
      "[60, 65, 56, 78, 99]\n"
     ]
    }
   ],
   "source": [
    "#to print the elements of the above list\n",
    "print(a[0])\n",
    "print(a[1])\n",
    "print(a[2])\n",
    "print(a[3])"
   ]
  },
  {
   "cell_type": "code",
   "execution_count": 78,
   "metadata": {},
   "outputs": [
    {
     "name": "stdout",
     "output_type": "stream",
     "text": [
      "60\n",
      "65\n",
      "56\n",
      "78\n",
      "99\n"
     ]
    }
   ],
   "source": [
    "# to print the elements of sublist with index 3\n",
    "print(a[3][0])\n",
    "print(a[3][1])\n",
    "print(a[3][2])\n",
    "print(a[3][3])\n",
    "print(a[3][4])"
   ]
  },
  {
   "cell_type": "code",
   "execution_count": 79,
   "metadata": {},
   "outputs": [
    {
     "name": "stdout",
     "output_type": "stream",
     "text": [
      "No. of elements of list a 7\n",
      "s\n",
      "e\n"
     ]
    }
   ],
   "source": [
    "#Example 2- another list a\n",
    "a=[1,2,'apple',[4,5,6],['cs','ip'],6.5,True]\n",
    "print('No. of elements of list a',len(a)) # no . of elements of the list\n",
    "print(a[4][0][1])#to print second character of first word in sublist with index 4\n",
    "print(a[2][4])   #to print fifth character of third element"
   ]
  },
  {
   "cell_type": "code",
   "execution_count": 17,
   "metadata": {},
   "outputs": [
    {
     "name": "stdout",
     "output_type": "stream",
     "text": [
      "[1, 2, 3, 4, [5, 6], 7]\n"
     ]
    }
   ],
   "source": [
    "#using + operator on two lists--adds each element of b as an element\n",
    "a=[1,2,3]\n",
    "b=[4,[5,6],7]\n",
    "a=a+b\n",
    "print(a)"
   ]
  },
  {
   "cell_type": "code",
   "execution_count": 18,
   "metadata": {},
   "outputs": [
    {
     "name": "stdout",
     "output_type": "stream",
     "text": [
      "[1, 2, 3, 4, [5, 6], 7]\n"
     ]
    }
   ],
   "source": [
    "#using extend() a lsit  a with another list b -  adds each element of b as an element\n",
    "a=[1,2,3]\n",
    "b=[4,[5,6],7]\n",
    "a.extend(b)\n",
    "print(a)"
   ]
  },
  {
   "cell_type": "code",
   "execution_count": 19,
   "metadata": {},
   "outputs": [
    {
     "name": "stdout",
     "output_type": "stream",
     "text": [
      "[1, 2, 3, [4, [5, 6], 7]]\n"
     ]
    }
   ],
   "source": [
    "#append list a with another list b-adds entire  list b as  one new element\n",
    "a=[1,2,3]\n",
    "b=[4,[5,6],7]\n",
    "a.append(b)\n",
    "print(a)"
   ]
  },
  {
   "cell_type": "code",
   "execution_count": 20,
   "metadata": {},
   "outputs": [
    {
     "name": "stdout",
     "output_type": "stream",
     "text": [
      "[1, 2, 3, 'Python']\n"
     ]
    }
   ],
   "source": [
    "#appending  list a with a string will add the string as one new element\n",
    "a=[1,2,3]\n",
    "s='Python'\n",
    "a.append(s)\n",
    "print(a)"
   ]
  },
  {
   "cell_type": "code",
   "execution_count": 21,
   "metadata": {},
   "outputs": [
    {
     "name": "stdout",
     "output_type": "stream",
     "text": [
      "[1, 2, 3, 'P', 'y', 't', 'h', 'o', 'n']\n"
     ]
    }
   ],
   "source": [
    "#extending  list a with a string will add each character o the string as a new element\n",
    "a=[1,2,3]\n",
    "s='Python'\n",
    "a.extend(s)\n",
    "print(a)"
   ]
  },
  {
   "cell_type": "code",
   "execution_count": 22,
   "metadata": {},
   "outputs": [
    {
     "name": "stdout",
     "output_type": "stream",
     "text": [
      "[]\n",
      "[10, 20, 30]\n",
      "[10, 20, 30]\n",
      "['C', 'o', 'm', 'p', 'u', 't', 'e', 'r']\n"
     ]
    }
   ],
   "source": [
    "l1=[]#empty list decllaration\n",
    "print(l1)\n",
    "l2=[10,20,30]#creating a list with three elements\n",
    "print(l2)\n",
    "l3=list([10,20,30])#creating a list with list constructor list()\n",
    "print(l3)\n",
    "l4=list('Computer')#creating a list with string list constructor()\n",
    "print(l4)\n",
    "\n"
   ]
  },
  {
   "cell_type": "code",
   "execution_count": 25,
   "metadata": {},
   "outputs": [
    {
     "name": "stdout",
     "output_type": "stream",
     "text": [
      "no of elements3\n",
      "enter a value10\n",
      "enter a valuetwenty\n",
      "enter a value30.0\n",
      "['10', 'twenty', '30.0']\n"
     ]
    }
   ],
   "source": [
    "#to accept n and create a list with that many elements of any data type  as per user's input\n",
    "l1=[]\n",
    "#print(l1,len(l1))\n",
    "n=int(input('no of elements'))#6\n",
    "for i in range(n):\n",
    "    val=input(\"enter a value\")\n",
    "    l1.append(val)#0,1,2\n",
    "print(l1)"
   ]
  },
  {
   "cell_type": "code",
   "execution_count": 27,
   "metadata": {},
   "outputs": [
    {
     "name": "stdout",
     "output_type": "stream",
     "text": [
      "no of elements5\n",
      "enter a value3\n",
      "enter a value46\n",
      "enter a value14\n",
      "enter a value1\n",
      "enter a value30\n",
      "[3, 46, 14, 1, 30]\n",
      "Sum of elements of list1= 94\n",
      "Greatest of element of list1= 46\n",
      "Smallest of element of list1= 1\n",
      "Average of elemeents of list1= 18.8\n",
      "List1 in ascending order of its elements [1, 3, 14, 30, 46]\n",
      "List1 in descending order of its elements [46, 30, 14, 3, 1]\n"
     ]
    }
   ],
   "source": [
    "#Program - 1\n",
    "#to accept  n number of integers and \n",
    "#i) print the list\n",
    "#ii) find a)sum b)max c) min \n",
    "#iii) Arrange list in ascending order of elements\n",
    "list1=[]\n",
    "n=int(input('no of elements'))#6\n",
    "for i in range(n):\n",
    "    val=int(input(\"enter a value\"))\n",
    "    list1.append(val)\n",
    "print(list1)\n",
    "\n",
    "print('Sum of elements of list1=',sum(list1))      #sum\n",
    "print('Greatest of element of list1=',max(list1))  #maximum \n",
    "print('Smallest of element of list1=',min(list1)) #minimum\n",
    "average=sum(list1)/len(list1)                     #average\n",
    "print('Average of elemeents of list1=',average)\n",
    "list1.sort()                                     #sorting in ascending order\n",
    "print('List1 in ascending order of its elements',list1)\n",
    "list1.sort(reverse=True)                       #sorting in descending order\n",
    "print('List1 in descending order of its elements',list1)\n"
   ]
  },
  {
   "cell_type": "code",
   "execution_count": 29,
   "metadata": {},
   "outputs": [
    {
     "name": "stdout",
     "output_type": "stream",
     "text": [
      "False\n",
      "True\n",
      "1\n",
      "4\n",
      "3\n"
     ]
    }
   ],
   "source": [
    "#program-2-  using in, index and count\n",
    "L=[2,5,3,2,5,10,2]\n",
    "print(20 in L)       #checks if  20 is present in L\n",
    "print(5 in L)        #checks if  5 is present in L\n",
    "print(L.index(5))    #L.index(5) returns the index of first occurence of 5 starting from index 0\n",
    "print(L.index(5,3))  # L.index(5,3) returns the index of first occurence of 5 starting from index index 3\n",
    "print(L.count(2))     #L.count(2)- returns the number of occurences of 2 in L"
   ]
  },
  {
   "cell_type": "code",
   "execution_count": 33,
   "metadata": {},
   "outputs": [
    {
     "name": "stdout",
     "output_type": "stream",
     "text": [
      "L= [10, 20, 30, 40, 50]\n",
      "10 20 30 40 50 "
     ]
    }
   ],
   "source": [
    "#program-3 - to access and print the elements of list \n",
    "L=[10,20,30,40,50]\n",
    "print('L=',L)\n",
    "#for loop using list element\n",
    "for i in L:#10,20,30,40,50\n",
    "    print(i,end=' ')         "
   ]
  },
  {
   "cell_type": "code",
   "execution_count": 36,
   "metadata": {},
   "outputs": [
    {
     "name": "stdout",
     "output_type": "stream",
     "text": [
      "L= [10, 20, 30, 40, 50]\n",
      "After adding 5 to each element ,L= [15, 25, 35, 45, 55]\n"
     ]
    }
   ],
   "source": [
    "#program-4 - for editing the content of list\n",
    "# for loop using list index\n",
    "#incrementing each element by 5\n",
    "L=[10,20,30,40,50]\n",
    "print('L=',L)\n",
    "for i in range(len(L)):#0 to 4\n",
    "    L[i]=L[i]+5\n",
    "print('After adding 5 to each element ,L=',L) "
   ]
  },
  {
   "cell_type": "code",
   "execution_count": 37,
   "metadata": {},
   "outputs": [
    {
     "name": "stdout",
     "output_type": "stream",
     "text": [
      "[9, 18, 2, 34, 5, 0]\n",
      "[1, 2, 2, 2, 1, 2]\n"
     ]
    }
   ],
   "source": [
    "#program-5\n",
    "#to generate a list and reset all odd numbers with 1 and even numbers with 2\n",
    "L=[9,18,2,34,5,0]\n",
    "print(L)\n",
    "for i in range(len(L)):\n",
    "    if L[i]%2==0:\n",
    "        L[i]=2\n",
    "    else:\n",
    "        L[i]=1\n",
    "print(L)"
   ]
  },
  {
   "cell_type": "code",
   "execution_count": 38,
   "metadata": {},
   "outputs": [
    {
     "name": "stdout",
     "output_type": "stream",
     "text": [
      "marks=90\n",
      "marks=80\n",
      "marks=30\n",
      "marks=70\n",
      "marks=89\n",
      "Marks= [90, 80, 30, 70, 89]\n",
      "Grades= ['A2', 'A2', 'A3', 'A3', 'A2']\n"
     ]
    }
   ],
   "source": [
    "#program-6\n",
    "#to generate a list that stores marks obtained by 5 students and generate a parallel array that sores \n",
    "#the correponidng grade as per the criterion-\n",
    "#marks>90 : A1, 75 and above less than or equal to 90:'A2',,otherwise :'A3' \n",
    "L=[]\n",
    "G=[]\n",
    "for i in  range(5):\n",
    "    L.append(int(input('marks=')))\n",
    "#assign grade\n",
    "for i in L:\n",
    "    if i>90:\n",
    "        G.append('A1')\n",
    "    elif i>=75:\n",
    "        G.append('A2')\n",
    "    else:\n",
    "        G.append('A3')\n",
    "print('Marks=',L)\n",
    "print('Grades=',G)  \n"
   ]
  },
  {
   "cell_type": "code",
   "execution_count": 39,
   "metadata": {},
   "outputs": [
    {
     "name": "stdout",
     "output_type": "stream",
     "text": [
      "enter a value:12\n",
      "enter a value:345\n",
      "enter a value:3\n",
      "enter a value:67\n",
      "enter a value:89\n",
      "In method1\n",
      "no. of two digit elements= 3\n",
      "no. of three digit elements= 1\n",
      "In method2\n",
      "no. of two digit elements= 3\n",
      "no. of three digit elements= 1\n"
     ]
    }
   ],
   "source": [
    "#program-7 to count the number of two digit elements and three digit elements present in the list\n",
    "L=[]\n",
    "for i in range(5):\n",
    "    val=int(input(\"enter a value:\"))\n",
    "    L.append(val)\n",
    "#method1 \n",
    "print('In method1')\n",
    "count1=0\n",
    "count2=0\n",
    "for i in L:\n",
    "    if i>=10 and i <=99:\n",
    "        count1=count1+1\n",
    "    elif i>=100 and i <=999:\n",
    "        count2=count2+1\n",
    "print('no. of two digit elements=',count1)\n",
    "print('no. of three digit elements=',count2)\n",
    "\n",
    "#method2-Using list index\n",
    "print('In method2')\n",
    "count1=0\n",
    "count2=0\n",
    "for i in range(len(L)):\n",
    "    if L[i]>=10 and L[i] <=99:\n",
    "        count1=count1+1\n",
    "    if L[i]>=100 and L[i] <=999:\n",
    "        count2=count2+1\n",
    "print('no. of two digit elements=',count1)\n",
    "print('no. of three digit elements=',count2)\n"
   ]
  },
  {
   "cell_type": "code",
   "execution_count": 40,
   "metadata": {},
   "outputs": [
    {
     "name": "stdout",
     "output_type": "stream",
     "text": [
      "enter a value:5\n",
      "enter a value:12\n",
      "enter a value:56\n",
      "enter a value:105\n",
      "enter a value:50\n",
      "L= [5, 12, 56, 105, 50]\n",
      "L1= [5, 12, 105, 50]\n",
      "L2= [50]\n"
     ]
    }
   ],
   "source": [
    "#program-8\n",
    "#to create a list of 5 integers and generate two lists L1 and L2 based on L\n",
    "#L1 will have elements of L which are multiples of 3 or multiples of 5 as its elements\n",
    "#L2  will have all two digit numbers of  L which are also multiples of 5 as its elements\n",
    "L=[]\n",
    "L1=[]\n",
    "L2=[]\n",
    "for i in range(5):\n",
    "    val=int(input(\"enter a value:\"))\n",
    "    L.append(val)\n",
    "\n",
    "for i in L:\n",
    "    if i%3==0 or i%5==0:\n",
    "        L1.append(i)\n",
    "    if i>=10 and i<=99 and i%5==0:\n",
    "        L2.append(i)\n",
    "print('L=',L)\n",
    "print('L1=',L1)\n",
    "print('L2=',L2) \n"
   ]
  },
  {
   "cell_type": "code",
   "execution_count": 53,
   "metadata": {},
   "outputs": [
    {
     "name": "stdout",
     "output_type": "stream",
     "text": [
      "L= [5, 21, 15, 5, 6]\n",
      "After deleting last element,L= [5, 21, 15, 5]\n",
      "After deleting third element,L= [5, 21, 5, 6]\n"
     ]
    }
   ],
   "source": [
    "#deleting an element using pop()\n",
    "#pop(i) will delete an element at a given index i .\n",
    "#if index is not given,pop() will delete the last element of the list\n",
    "L=[5,21,15,5,6]\n",
    "print('L=',L)\n",
    "L.pop()         # pop()will delete the last element when index is not specified\n",
    "print('After deleting last element,L=',L)\n",
    "L=[5,21,15,5,6]\n",
    "L.pop(2)       # will delete the element at index 2\n",
    "print('After deleting third element,L=',L)"
   ]
  },
  {
   "cell_type": "code",
   "execution_count": 54,
   "metadata": {},
   "outputs": [
    {
     "name": "stdout",
     "output_type": "stream",
     "text": [
      "[5, 21, 15, 5, 6]\n",
      "After deleting 5 from L,L= [21, 15, 5, 6]\n"
     ]
    }
   ],
   "source": [
    "#deleting an element using remove()\n",
    "#remove(v) will delete based on value v at its first occurence \n",
    "L=[5,21,15,5,6]\n",
    "print(L)\n",
    "L.remove(5)#value\n",
    "print('After deleting 5 from L,L=',L)"
   ]
  },
  {
   "cell_type": "code",
   "execution_count": 55,
   "metadata": {},
   "outputs": [
    {
     "name": "stdout",
     "output_type": "stream",
     "text": [
      "[5, 21, 15, 5, 6]\n",
      "After deleting element with index 1 ie second element,L= [5, 15, 5, 6]\n"
     ]
    }
   ],
   "source": [
    "#deleting an element using del()\n",
    "#del L(i) will delete the elemet at index i \n",
    "L=[5,21,15,5,6]\n",
    "print(L)\n",
    "del L[1]# delete the element with index 1 - ie 2nd element from the list\n",
    "print('After deleting element with index 1 ie second element,L=',L)"
   ]
  },
  {
   "cell_type": "code",
   "execution_count": 65,
   "metadata": {},
   "outputs": [],
   "source": [
    "#to delete the list object  L itself\n",
    "L=[1,2,3,2,5]\n",
    "del L    #delete list L\n",
    "#print(L)# would throw error as L does not exist "
   ]
  },
  {
   "cell_type": "code",
   "execution_count": 66,
   "metadata": {},
   "outputs": [
    {
     "name": "stdout",
     "output_type": "stream",
     "text": [
      "[5, 21, 15, 5, 6]\n",
      "\n",
      "After L.clear(),L= []\n"
     ]
    }
   ],
   "source": [
    "#clear()- will empty the list by deletng all its elements\n",
    "L=[5,21,15,5,6]\n",
    "print(L)\n",
    "print()\n",
    "L.clear()\n",
    "print('After L.clear(),L=',L)"
   ]
  },
  {
   "cell_type": "code",
   "execution_count": 85,
   "metadata": {},
   "outputs": [
    {
     "name": "stdout",
     "output_type": "stream",
     "text": [
      "no of elements:5\n",
      "enter a value:3\n",
      "enter a value:5\n",
      "enter a value:2\n",
      "enter a value:5\n",
      "enter a value:4\n",
      "[3, 5, 2, 5, 4]\n",
      "enter the value to be deleted:5\n",
      "After deleting  5 ,L= [3, 2, 4]\n"
     ]
    }
   ],
   "source": [
    "#program-9\n",
    "#To delete all occureneces of a given value in a list of integers\n",
    "L=[]\n",
    "n=int(input('no of elements:'))\n",
    "for i in range(n):\n",
    "    v=int(input(\"enter a value:\"))\n",
    "    L.append(v)\n",
    "print(L)\n",
    "d=int(input(\"enter the value to be deleted:\"))\n",
    "i=0\n",
    "while  i<len(L):\n",
    "    if L[i]==d:\n",
    "        L.remove(d) # or L.pop(i)\n",
    "        i=i-1\n",
    "    i=i+1\n",
    "print('After deleting ',d,',L=',L)\n"
   ]
  },
  {
   "cell_type": "code",
   "execution_count": 88,
   "metadata": {
    "scrolled": true
   },
   "outputs": [
    {
     "name": "stdout",
     "output_type": "stream",
     "text": [
      "no of elements:5\n",
      "enter a value:6\n",
      "enter a value:51\n",
      "enter a value:4\n",
      "enter a value:7\n",
      "enter a value:89\n",
      "[6, 51, 4, 7, 89]\n",
      "[6, 1, 51, 4, 1, 7, 1, 89]\n"
     ]
    }
   ],
   "source": [
    "#program-10\n",
    "#To insert 1 before every odd value in a list of integers\n",
    "# [6, 51, 4, 7, 89]\n",
    "#o/p[1,1,2,1,3,4,1,5]\n",
    "L=[]\n",
    "n=int(input('no of elements:'))\n",
    "for i in range(n):\n",
    "    v=int(input(\"enter a value:\"))\n",
    "    L.append(v)\n",
    "print(L)#1,1,2,1,3,4,5\n",
    "i=0 #reset\n",
    "while  i<len(L):#\n",
    "    if L[i]%2!=0:\n",
    "        L.insert(i,1)\n",
    "        i=i+1\n",
    "    i=i+1\n",
    "print(L)"
   ]
  },
  {
   "cell_type": "code",
   "execution_count": 89,
   "metadata": {},
   "outputs": [
    {
     "name": "stdout",
     "output_type": "stream",
     "text": [
      "no of elements:5\n",
      "enter a value:11\n",
      "enter a value:12\n",
      "enter a value:3\n",
      "enter a value:14\n",
      "enter a value:15\n",
      "[11, 12, 3, 14, 15]\n",
      "[12, 14]\n"
     ]
    }
   ],
   "source": [
    "#prog-11\n",
    "#To delete every odd value in a list of integers\n",
    "L=[]\n",
    "n=int(input('no of elements:'))\n",
    "for i in range(n):\n",
    "    v=int(input(\"enter a value:\"))\n",
    "    L.append(v)\n",
    "print(L) #\n",
    "i=0\n",
    "while  i<len(L):\n",
    "    if L[i]%2!=0:\n",
    "        L.pop(i)\n",
    "        i=i-1\n",
    "    i=i+1\n",
    "print(L)"
   ]
  },
  {
   "cell_type": "code",
   "execution_count": 1,
   "metadata": {},
   "outputs": [
    {
     "name": "stdout",
     "output_type": "stream",
     "text": [
      "l= [12, 15, 37, 42, 55]\n",
      "After modification,L= [24, 7.5, 74, 21.0, 110]\n"
     ]
    }
   ],
   "source": [
    "#program-12\n",
    "#To multiply elements in odd position (even indices) by 2 \n",
    "#and divide elements in even poisitions(odd indices) by 2\n",
    "L=[12,15,37,42,55]\n",
    "print('l=',L)\n",
    "for i in range(len(L)):\n",
    "    if i%2==0:\n",
    "        L[i]=L[i]*2\n",
    "    else:\n",
    "        L[i]=L[i]/2\n",
    "print('After modification,L=',L)"
   ]
  },
  {
   "cell_type": "code",
   "execution_count": 2,
   "metadata": {},
   "outputs": [
    {
     "name": "stdout",
     "output_type": "stream",
     "text": [
      "l= [12, 15, 37, 42, 55]\n",
      "After modification,L= [6.0, 30, 74, 21.0, 110]\n"
     ]
    }
   ],
   "source": [
    "#program-13\n",
    "#To multiply elements of L which are odd  by 2 \n",
    "#and divide elements of L which are even by 2\n",
    "L=[12,15,37,42,55]\n",
    "print('l=',L)\n",
    "for i in range(len(L)):\n",
    "    if L[i]%2!=0:\n",
    "        L[i]=L[i]*2\n",
    "    else:\n",
    "        L[i]=L[i]/2\n",
    "print('After modification,L=',L)"
   ]
  },
  {
   "cell_type": "code",
   "execution_count": null,
   "metadata": {},
   "outputs": [],
   "source": []
  }
 ],
 "metadata": {
  "kernelspec": {
   "display_name": "Python 3",
   "language": "python",
   "name": "python3"
  },
  "language_info": {
   "codemirror_mode": {
    "name": "ipython",
    "version": 3
   },
   "file_extension": ".py",
   "mimetype": "text/x-python",
   "name": "python",
   "nbconvert_exporter": "python",
   "pygments_lexer": "ipython3",
   "version": "3.7.6"
  }
 },
 "nbformat": 4,
 "nbformat_minor": 4
}
